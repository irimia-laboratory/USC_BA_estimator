{
 "cells": [
  {
   "cell_type": "code",
   "execution_count": 1,
   "id": "bc7fc6c9",
   "metadata": {},
   "outputs": [
    {
     "name": "stderr",
     "output_type": "stream",
     "text": [
      "C:\\Users\\P02\\anaconda3\\lib\\site-packages\\scipy\\__init__.py:146: UserWarning: A NumPy version >=1.16.5 and <1.23.0 is required for this version of SciPy (detected version 1.23.4\n",
      "  warnings.warn(f\"A NumPy version >={np_minversion} and <{np_maxversion}\"\n"
     ]
    }
   ],
   "source": [
    "import numpy as np\n",
    "from utils import dataLoader\n",
    "from model import NativeSpacemodel\n",
    "import pandas as pd"
   ]
  },
  {
   "cell_type": "markdown",
   "id": "d6a679cf",
   "metadata": {},
   "source": [
    "### get a list of freesurfer processed files"
   ]
  },
  {
   "cell_type": "code",
   "execution_count": 2,
   "id": "b9303eca",
   "metadata": {},
   "outputs": [],
   "source": [
    "## filePaths - replace with your file paths - should point to brain.mgz\n",
    "filePaths = [\"dir\\\\fileLocation1\\\\brain.mgz\",\n",
    "             \"dir\\\\fileLocation2\\\\brain.mgz\"] \n",
    "\n",
    "## brain age csv save location\n",
    "csvLocation = \"\"\n",
    "csvName = \"BAtest.csv\""
   ]
  },
  {
   "cell_type": "markdown",
   "id": "fd1c2482",
   "metadata": {},
   "source": [
    "### load model and prepare data for prediction "
   ]
  },
  {
   "cell_type": "code",
   "execution_count": 3,
   "id": "079b29b1",
   "metadata": {},
   "outputs": [],
   "source": [
    "BAPredictor = NativeSpacemodel.get_model()\n",
    "modelWeights = \"./model/NativeSpaceWeight.h5\"\n",
    "BAPredictor.load_weights(modelWeights)\n",
    "\n",
    "brains = dataLoader.dataLoader(filePaths)"
   ]
  },
  {
   "cell_type": "code",
   "execution_count": 8,
   "id": "903438e6",
   "metadata": {},
   "outputs": [
    {
     "name": "stdout",
     "output_type": "stream",
     "text": [
      "\n",
      " loaded  2  brains\n",
      "128 128 128\n"
     ]
    }
   ],
   "source": [
    "[n, h, w, d] = np.shape(brains)\n",
    "print(\"\\n loaded \", n, \" brains\")\n",
    "\n",
    "# make sure the prepocessed brains have 128^3 volumes  \n",
    "assert h==w==d == 128"
   ]
  },
  {
   "cell_type": "markdown",
   "id": "dc0ed066",
   "metadata": {},
   "source": [
    "### preform prediction"
   ]
  },
  {
   "cell_type": "code",
   "execution_count": 5,
   "id": "47f8df32",
   "metadata": {},
   "outputs": [
    {
     "name": "stdout",
     "output_type": "stream",
     "text": [
      "1/1 [==============================] - 2s 2s/step\n"
     ]
    }
   ],
   "source": [
    "predictions = BAPredictor.predict(brains)"
   ]
  },
  {
   "cell_type": "code",
   "execution_count": 6,
   "id": "6d109781",
   "metadata": {},
   "outputs": [],
   "source": [
    "dfBA = pd.DataFrame(predictions)\n",
    "dfBA.columns = [\"BA\"]\n",
    "dfBA.to_csv(csvLocation+csvName)"
   ]
  }
 ],
 "metadata": {
  "kernelspec": {
   "display_name": "Python 3 (ipykernel)",
   "language": "python",
   "name": "python3"
  },
  "language_info": {
   "codemirror_mode": {
    "name": "ipython",
    "version": 3
   },
   "file_extension": ".py",
   "mimetype": "text/x-python",
   "name": "python",
   "nbconvert_exporter": "python",
   "pygments_lexer": "ipython3",
   "version": "3.9.7"
  }
 },
 "nbformat": 4,
 "nbformat_minor": 5
}
